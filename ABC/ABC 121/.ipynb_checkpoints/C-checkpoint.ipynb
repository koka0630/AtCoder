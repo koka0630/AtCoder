{
 "cells": [
  {
   "cell_type": "code",
   "execution_count": 6,
   "metadata": {},
   "outputs": [
    {
     "name": "stdout",
     "output_type": "stream",
     "text": [
      "1 100000\n",
      "1000000000 100000\n",
      "100000000000000\n"
     ]
    }
   ],
   "source": [
    "N,M=map(int,input().split())\n",
    "A=[]\n",
    "for i in range(N):\n",
    "    A.append(list(map(int,input().split())))\n",
    "A.sort(key=lambda x:(x[0],x[1]))\n",
    "C=[A[0][0]*A[0][1]]\n",
    "D=[A[0][1]]\n",
    "for i in range(N-1):\n",
    "    C.append(C[i]+A[i+1][0]*A[i+1][1])\n",
    "    D.append(D[i]+A[i+1][1])\n",
    "for i in range(N):\n",
    "    if M<D[i]:\n",
    "        print(C[i]-(D[i]-M)*A[i][0])\n",
    "        break\n",
    "if M==D[N-1]:\n",
    "    print(C[N-1])"
   ]
  },
  {
   "cell_type": "code",
   "execution_count": null,
   "metadata": {},
   "outputs": [],
   "source": [
    "4 30\n",
    "6 18\n",
    "2 5\n",
    "3 10\n",
    "7 9\n",
    "print(C[N-1])"
   ]
  }
 ],
 "metadata": {
  "kernelspec": {
   "display_name": "Python 3",
   "language": "python",
   "name": "python3"
  },
  "language_info": {
   "codemirror_mode": {
    "name": "ipython",
    "version": 3
   },
   "file_extension": ".py",
   "mimetype": "text/x-python",
   "name": "python",
   "nbconvert_exporter": "python",
   "pygments_lexer": "ipython3",
   "version": "3.7.1"
  }
 },
 "nbformat": 4,
 "nbformat_minor": 2
}
