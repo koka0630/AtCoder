{
 "cells": [
  {
   "cell_type": "code",
   "execution_count": 9,
   "metadata": {},
   "outputs": [
    {
     "name": "stdout",
     "output_type": "stream",
     "text": [
      "5 2 -4\n",
      "-2 5\n",
      "[-2, 5]\n",
      "100 41\n",
      "[100, 41]\n",
      "1\n",
      "100 40\n",
      "[100, 40]\n",
      "-4\n",
      "-3 0\n",
      "[-3, 0]\n",
      "2\n",
      "-6 -2\n",
      "[-6, -2]\n",
      "-2\n",
      "18 -13\n",
      "[18, -13]\n",
      "-105\n",
      "2\n"
     ]
    }
   ],
   "source": [
    "N,M,C=map(int,input().split())\n",
    "A=[]\n",
    "c=0\n",
    "B=list(map(int,input().split()))\n",
    "for i in range(1,N+1):\n",
    "    A.append(list(map(int,input().split())))\n",
    "    if sum(A[i-1][k-1]*B[k-1] for k in range(1,M+1))+C>0:\n",
    "        c=c+1\n",
    "print(c)"
   ]
  },
  {
   "cell_type": "code",
   "execution_count": null,
   "metadata": {},
   "outputs": [],
   "source": [
    "5 2 -4\n",
    "-2 5\n",
    "100 41\n",
    "100 40\n",
    "-3 0\n",
    "-6 -2\n",
    "18 -13"
   ]
  },
  {
   "cell_type": "code",
   "execution_count": null,
   "metadata": {},
   "outputs": [],
   "source": []
  }
 ],
 "metadata": {
  "kernelspec": {
   "display_name": "Python 3",
   "language": "python",
   "name": "python3"
  }
 },
 "nbformat": 4,
 "nbformat_minor": 2
}
