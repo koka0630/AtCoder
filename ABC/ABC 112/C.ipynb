{
 "cells": [
  {
   "cell_type": "code",
   "execution_count": 6,
   "metadata": {},
   "outputs": [
    {
     "name": "stdout",
     "output_type": "stream",
     "text": [
      "3\n",
      "99 1 191\n",
      "100 1 192\n",
      "99 0 192\n",
      "100 0 193\n"
     ]
    }
   ],
   "source": [
    "N=int(input())\n",
    "A=[list(map(int,input().split())) for _ in range(N)]\n",
    "for cx in range(101):\n",
    "    for cy in range(101):\n",
    "        H=[A[i][2]+abs(A[i][0]-cx)+abs(A[i][1]-cy) for i in range(N) if A[i][2]!=0]#N地点の(高さ０以外)h-|x-cx|-|y-cy|がconstかをしらべる\n",
    "        if H.count(H[0])==len(H):\n",
    "            print('{} {} {}'.format(cx,cy,H[0]))\n",
    "            break"
   ]
  },
  {
   "cell_type": "markdown",
   "metadata": {},
   "source": [
    "### print(abs(1-2))"
   ]
  },
  {
   "cell_type": "code",
   "execution_count": null,
   "metadata": {},
   "outputs": [],
   "source": []
  },
  {
   "cell_type": "code",
   "execution_count": null,
   "metadata": {},
   "outputs": [],
   "source": []
  },
  {
   "cell_type": "code",
   "execution_count": null,
   "metadata": {},
   "outputs": [],
   "source": [
    "3\n",
    "99 1 191\n",
    "100 1 192\n",
    "99 0 192"
   ]
  },
  {
   "cell_type": "code",
   "execution_count": null,
   "metadata": {},
   "outputs": [],
   "source": [
    "4\n",
    "2 3 5\n",
    "2 1 5\n",
    "1 2 5\n",
    "3 2 5"
   ]
  },
  {
   "cell_type": "code",
   "execution_count": null,
   "metadata": {},
   "outputs": [],
   "source": [
    "2\n",
    "0 0 100\n",
    "1 1 98"
   ]
  }
 ],
 "metadata": {
  "kernelspec": {
   "display_name": "Python 3",
   "language": "python",
   "name": "python3"
  },
  "language_info": {
   "codemirror_mode": {
    "name": "ipython",
    "version": 3
   },
   "file_extension": ".py",
   "mimetype": "text/x-python",
   "name": "python",
   "nbconvert_exporter": "python",
   "pygments_lexer": "ipython3",
   "version": "3.7.1"
  }
 },
 "nbformat": 4,
 "nbformat_minor": 2
}
