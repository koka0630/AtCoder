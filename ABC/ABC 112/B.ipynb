{
 "cells": [
  {
   "cell_type": "code",
   "execution_count": 2,
   "metadata": {},
   "outputs": [
    {
     "name": "stdout",
     "output_type": "stream",
     "text": [
      "4 3\n",
      "1 1000\n",
      "2 4\n",
      "3 1000\n",
      "4 500\n",
      "TLE\n"
     ]
    }
   ],
   "source": [
    "N,T=map(int,input().split())\n",
    "CT=[list(map(int,input().split())) for _ in range(N)]\n",
    "sort_CT=sorted(CT,key=lambda x:x[0])\n",
    "c=0\n",
    "for i in range(N):\n",
    "    if sort_CT[i][1]<=T:\n",
    "        print(sort_CT[i][0])\n",
    "        break\n",
    "    else:\n",
    "        c+=1\n",
    "if c==N:\n",
    "    print('TLE')"
   ]
  },
  {
   "cell_type": "code",
   "execution_count": null,
   "metadata": {},
   "outputs": [],
   "source": [
    "4 3\n",
    "1 1000\n",
    "2 4\n",
    "3 1000\n",
    "4 500"
   ]
  },
  {
   "cell_type": "code",
   "execution_count": null,
   "metadata": {},
   "outputs": [],
   "source": [
    "3 70\n",
    "7 60\n",
    "1 80\n",
    "4 50"
   ]
  }
 ],
 "metadata": {
  "kernelspec": {
   "display_name": "Python 3",
   "language": "python",
   "name": "python3"
  },
  "language_info": {
   "codemirror_mode": {
    "name": "ipython",
    "version": 3
   },
   "file_extension": ".py",
   "mimetype": "text/x-python",
   "name": "python",
   "nbconvert_exporter": "python",
   "pygments_lexer": "ipython3",
   "version": "3.7.1"
  }
 },
 "nbformat": 4,
 "nbformat_minor": 2
}
