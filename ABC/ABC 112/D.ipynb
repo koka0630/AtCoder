{
 "cells": [
  {
   "cell_type": "code",
   "execution_count": 4,
   "metadata": {},
   "outputs": [
    {
     "name": "stdout",
     "output_type": "stream",
     "text": [
      "10 123\n",
      "3\n"
     ]
    }
   ],
   "source": [
    "N,M=map(int,input().split())\n",
    "A=[i for i in range(1,M//N+1) if M%i==0]#約数（m）の大きい順にM→M/mとしたときにNこの最大公約数が1になるか（というかM/mをN個にわけることができるか、で十分）を調べる\n",
    "c=0\n",
    "while c==0:\n",
    "    if int(M//max(A))>=N:\n",
    "        a=int(max(A))\n",
    "        c+=1\n",
    "    else:\n",
    "        del A[len(A)-1]\n",
    "print(a)"
   ]
  },
  {
   "cell_type": "code",
   "execution_count": null,
   "metadata": {},
   "outputs": [],
   "source": [
    "4/2"
   ]
  },
  {
   "cell_type": "code",
   "execution_count": null,
   "metadata": {},
   "outputs": [],
   "source": [
    "print(A)"
   ]
  },
  {
   "cell_type": "code",
   "execution_count": 9,
   "metadata": {},
   "outputs": [
    {
     "name": "stdout",
     "output_type": "stream",
     "text": [
      "3 141475672\n",
      "35368918\n"
     ]
    }
   ],
   "source": [
    "N,M=map(int,input().split())\n",
    "for i in reversed(range(1,M//N+1)):\n",
    "    if M%i == 0:\n",
    "        if M/i>=N:\n",
    "            print(i)\n",
    "        break"
   ]
  },
  {
   "cell_type": "code",
   "execution_count": 10,
   "metadata": {},
   "outputs": [
    {
     "name": "stdout",
     "output_type": "stream",
     "text": [
      "3 141475672\n",
      "<range_iterator object at 0x00000203C319EE30>\n"
     ]
    }
   ],
   "source": [
    "N,M=map(int,input().split())\n",
    "print(list(reversed(range(1,M//N+1))))"
   ]
  },
  {
   "cell_type": "code",
   "execution_count": null,
   "metadata": {},
   "outputs": [],
   "source": []
  }
 ],
 "metadata": {
  "kernelspec": {
   "display_name": "Python 3",
   "language": "python",
   "name": "python3"
  },
  "language_info": {
   "codemirror_mode": {
    "name": "ipython",
    "version": 3
   },
   "file_extension": ".py",
   "mimetype": "text/x-python",
   "name": "python",
   "nbconvert_exporter": "python",
   "pygments_lexer": "ipython3",
   "version": "3.7.1"
  }
 },
 "nbformat": 4,
 "nbformat_minor": 2
}
