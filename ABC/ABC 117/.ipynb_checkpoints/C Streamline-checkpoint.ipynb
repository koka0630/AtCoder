{
 "cells": [
  {
   "cell_type": "code",
   "execution_count": 1,
   "metadata": {},
   "outputs": [
    {
     "name": "stdout",
     "output_type": "stream",
     "text": [
      "2 5\n",
      "10 12 1 2 14\n",
      "5\n"
     ]
    }
   ],
   "source": [
    "N,M=map(int,input().split())\n",
    "X=sorted(list(map(int,input().split())))\n",
    "if N<M:\n",
    "    D=sorted([X[i+1]-X[i] for i in range(M-1)])\n",
    "    print(sum(D[i] for i in range(M-N)))\n",
    "else:\n",
    "    print(0)"
   ]
  },
  {
   "cell_type": "code",
   "execution_count": 2,
   "metadata": {},
   "outputs": [
    {
     "name": "stdout",
     "output_type": "stream",
     "text": [
      "2 5\n",
      "10 12 1 2 14\n",
      "5\n"
     ]
    }
   ],
   "source": [
    "N,M=map(int,input().split())\n",
    "X=sorted(list(map(int,input().split())))\n",
    "if N<M:\n",
    "    D=sorted([X[i+1]-X[i] for i in range(M-1)])\n",
    "    print(sum(D[i] for i in range(M-N)))\n",
    "else:\n",
    "    print(0)"
   ]
  },
  {
   "cell_type": "code",
   "execution_count": null,
   "metadata": {},
   "outputs": [],
   "source": []
  }
 ],
 "metadata": {
  "kernelspec": {
   "display_name": "Python 3",
   "language": "python",
   "name": "python3"
  },
  "language_info": {
   "codemirror_mode": {
    "name": "ipython",
    "version": 3
   },
   "file_extension": ".py",
   "mimetype": "text/x-python",
   "name": "python",
   "nbconvert_exporter": "python",
   "pygments_lexer": "ipython3",
   "version": "3.7.1"
  }
 },
 "nbformat": 4,
 "nbformat_minor": 2
}
