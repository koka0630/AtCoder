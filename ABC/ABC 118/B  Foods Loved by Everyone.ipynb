{
 "cells": [
  {
   "cell_type": "code",
   "execution_count": 9,
   "metadata": {},
   "outputs": [
    {
     "name": "stdout",
     "output_type": "stream",
     "text": [
      "3 4\n",
      "2 1 3\n",
      "3 1 2 3\n",
      "2 2 3\n",
      "1\n"
     ]
    }
   ],
   "source": [
    "N,M=map(int,input().split())\n",
    "A = [[1 for _ in range(M)]]+[[0 for _ in range(M)] for _ in range(N)]\n",
    "for i in range(1,N+1):\n",
    "    B=list(map(int,input().split()))\n",
    "    Ai=B[1:]\n",
    "    for m in Ai:\n",
    "        A[i][m]=A[i-1][m]\n",
    "print(int(sum(A[N])))"
   ]
  },
  {
   "cell_type": "code",
   "execution_count": 20,
   "metadata": {},
   "outputs": [
    {
     "name": "stdout",
     "output_type": "stream",
     "text": [
      "1 30\n",
      "3 5 10 30\n",
      "3\n"
     ]
    }
   ],
   "source": [
    "N,M=map(int,input().split())\n",
    "A = [[1 for _ in range(M)]]+[[0 for _ in range(M)] for _ in range(N)]\n",
    "for i in range(1,N+1):\n",
    "    B=list(map(int,input().split()))\n",
    "    Ai=B[1:]\n",
    "    for m in Ai:\n",
    "        A[i][m-1]=A[i-1][m-1]\n",
    "a=sum(A[N])\n",
    "print(int(a))"
   ]
  },
  {
   "cell_type": "code",
   "execution_count": null,
   "metadata": {},
   "outputs": [],
   "source": []
  }
 ],
 "metadata": {
  "kernelspec": {
   "display_name": "Python 3",
   "language": "python",
   "name": "python3"
  },
  "language_info": {
   "codemirror_mode": {
    "name": "ipython",
    "version": 3
   },
   "file_extension": ".py",
   "mimetype": "text/x-python",
   "name": "python",
   "nbconvert_exporter": "python",
   "pygments_lexer": "ipython3",
   "version": "3.7.1"
  }
 },
 "nbformat": 4,
 "nbformat_minor": 2
}
