{
 "cells": [
  {
   "cell_type": "code",
   "execution_count": null,
   "metadata": {},
   "outputs": [],
   "source": [
    "N,M=int(input()).split()\n",
    "A=list(map(int,input().split()))\n",
    "B=[2,5,5,4,5,6,3,7,6]\n",
    "C=[B[A[i]] for i in range(M)]\n",
    "D=[0 for _ in range(M)]\n",
    "print(C)\n",
    "def f(n,X):\n",
    "    if n!=1:\n",
    "        m=min(X)\n",
    "        Y=X.remove(m)\n",
    "        l=n%m\n",
    "        return f(l,Y)\n",
    "    else:\n",
    "        "
   ]
  }
 ],
 "metadata": {
  "kernelspec": {
   "display_name": "Python 3",
   "language": "python",
   "name": "python3"
  },
  "language_info": {
   "codemirror_mode": {
    "name": "ipython",
    "version": 3
   },
   "file_extension": ".py",
   "mimetype": "text/x-python",
   "name": "python",
   "nbconvert_exporter": "python",
   "pygments_lexer": "ipython3",
   "version": "3.7.1"
  }
 },
 "nbformat": 4,
 "nbformat_minor": 2
}
