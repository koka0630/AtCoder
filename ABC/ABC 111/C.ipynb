{
 "cells": [
  {
   "cell_type": "code",
   "execution_count": 30,
   "metadata": {},
   "outputs": [
    {
     "name": "stdout",
     "output_type": "stream",
     "text": [
      "4\n",
      "3 1 3 2\n",
      "[3, 3]\n",
      "[1, 2]\n",
      "1\n"
     ]
    }
   ],
   "source": [
    "n=int(input())\n",
    "a=list(map(int,input().split()))\n",
    "b=[a[2*i] for i in range(int(n/2))]\n",
    "c=[a[2*i-1] for i in range(1,int(n/2)+1)]\n",
    "d=[b.count(i) for i in list(set(b))]\n",
    "e=[c.count(i) for i in list(set(c))]\n",
    "if list(set(b))[d.index(max(d))] != list(set(c))[e.index(max(e))]:\n",
    "    print(n-max(d)-max(e))\n",
    "else:\n",
    "    f=max(d)\n",
    "    g=max(e)\n",
    "    del list(set(b))[d.index(max(d))]\n",
    "    del list(set(c))[e.index(max(e))]\n",
    "    d.remove(f)\n",
    "    e.remove(g)\n",
    "    if len(d)==0:n=int(input())\n",
    "a=list(map(int,input().split()))\n",
    "b=[a[2*i] for i in range(int(n/2))]\n",
    "c=[a[2*i-1] for i in range(1,int(n/2)+1)]\n",
    "d=[b.count(i) for i in list(set(b))]\n",
    "e=[c.count(i) for i in list(set(c))]\n",
    "if list(set(b))[d.index(max(d))] != list(set(c))[e.index(max(e))]:\n",
    "    print(n-max(d)-max(e))\n",
    "else:\n",
    "    f=max(d)\n",
    "    g=max(e)\n",
    "    del list(set(b))[d.index(max(d))]\n",
    "    del list(set(c))[e.index(max(e))]\n",
    "    d.remove(f)\n",
    "    e.remove(g)\n",
    "    if len(d)==0:\n",
    "        h=0\n",
    "    else:\n",
    "        h=max(d)\n",
    "    if len(e)==0:\n",
    "        i=0\n",
    "    else:\n",
    "        i=max(e)\n",
    "    print(n-max(f+i,g+h))\n",
    "        h=0\n",
    "    else:\n",
    "        h=max(d)\n",
    "    if len(e)==0:\n",
    "        i=0\n",
    "    else:\n",
    "        i=max(e)\n",
    "    print(n-max(f+i,g+h))"
   ]
  },
  {
   "cell_type": "code",
   "execution_count": 29,
   "metadata": {},
   "outputs": [
    {
     "ename": "NameError",
     "evalue": "name 'statistics' is not defined",
     "output_type": "error",
     "traceback": [
      "\u001b[1;31m---------------------------------------------------------------------------\u001b[0m",
      "\u001b[1;31mNameError\u001b[0m                                 Traceback (most recent call last)",
      "\u001b[1;32m<ipython-input-29-5e28213c90bc>\u001b[0m in \u001b[0;36m<module>\u001b[1;34m\u001b[0m\n\u001b[1;32m----> 1\u001b[1;33m \u001b[0mprint\u001b[0m\u001b[1;33m(\u001b[0m\u001b[0mstatistics\u001b[0m\u001b[1;33m.\u001b[0m\u001b[0mmode\u001b[0m\u001b[1;33m(\u001b[0m\u001b[1;33m[\u001b[0m\u001b[1;36m1\u001b[0m\u001b[1;33m,\u001b[0m\u001b[1;36m1\u001b[0m\u001b[1;33m,\u001b[0m\u001b[1;36m1\u001b[0m\u001b[1;33m,\u001b[0m\u001b[1;36m1\u001b[0m\u001b[1;33m,\u001b[0m\u001b[1;36m2\u001b[0m\u001b[1;33m,\u001b[0m\u001b[1;36m3\u001b[0m\u001b[1;33m]\u001b[0m\u001b[1;33m)\u001b[0m\u001b[1;33m)\u001b[0m\u001b[1;33m\u001b[0m\u001b[1;33m\u001b[0m\u001b[0m\n\u001b[0m",
      "\u001b[1;31mNameError\u001b[0m: name 'statistics' is not defined"
     ]
    }
   ],
   "source": [
    "print(statistics.mode([1,1,1,1,2,3]))"
   ]
  },
  {
   "cell_type": "code",
   "execution_count": 27,
   "metadata": {},
   "outputs": [
    {
     "ename": "NameError",
     "evalue": "name 'Counter' is not defined",
     "output_type": "error",
     "traceback": [
      "\u001b[1;31m---------------------------------------------------------------------------\u001b[0m",
      "\u001b[1;31mNameError\u001b[0m                                 Traceback (most recent call last)",
      "\u001b[1;32m<ipython-input-27-fd7dda00b660>\u001b[0m in \u001b[0;36m<module>\u001b[1;34m\u001b[0m\n\u001b[0;32m      1\u001b[0m \u001b[0mp\u001b[0m\u001b[1;33m=\u001b[0m\u001b[1;33m[\u001b[0m\u001b[1;36m1\u001b[0m\u001b[1;33m,\u001b[0m\u001b[1;36m1\u001b[0m\u001b[1;33m,\u001b[0m\u001b[1;36m1\u001b[0m\u001b[1;33m,\u001b[0m\u001b[1;36m1\u001b[0m\u001b[1;33m,\u001b[0m\u001b[1;36m2\u001b[0m\u001b[1;33m,\u001b[0m\u001b[1;36m3\u001b[0m\u001b[1;33m]\u001b[0m\u001b[1;33m\u001b[0m\u001b[1;33m\u001b[0m\u001b[0m\n\u001b[1;32m----> 2\u001b[1;33m \u001b[0mq\u001b[0m\u001b[1;33m=\u001b[0m\u001b[0mCounter\u001b[0m\u001b[1;33m(\u001b[0m\u001b[0mp\u001b[0m\u001b[1;33m)\u001b[0m\u001b[1;33m\u001b[0m\u001b[1;33m\u001b[0m\u001b[0m\n\u001b[0m\u001b[0;32m      3\u001b[0m \u001b[0mprint\u001b[0m\u001b[1;33m(\u001b[0m\u001b[0mq\u001b[0m\u001b[1;33m)\u001b[0m\u001b[1;33m\u001b[0m\u001b[1;33m\u001b[0m\u001b[0m\n\u001b[0;32m      4\u001b[0m \u001b[0mp\u001b[0m\u001b[1;33m.\u001b[0m\u001b[0mmost_common\u001b[0m\u001b[1;33m(\u001b[0m\u001b[1;36m1\u001b[0m\u001b[1;33m)\u001b[0m\u001b[1;33m\u001b[0m\u001b[1;33m\u001b[0m\u001b[0m\n",
      "\u001b[1;31mNameError\u001b[0m: name 'Counter' is not defined"
     ]
    }
   ],
   "source": [
    "p=[1,1,1,1,2,3]\n",
    "q=Counter(p)\n",
    "print(q)\n",
    "p.most_common(1)"
   ]
  },
  {
   "cell_type": "code",
   "execution_count": null,
   "metadata": {},
   "outputs": [],
   "source": [
    "1 1 1 1\n",
    "1 1 2 2\n",
    "set\n",
    "1\n",
    "1 2\n",
    "count\n",
    "4\n",
    "2 2\n",
    "del\n",
    "[]\n",
    "2"
   ]
  },
  {
   "cell_type": "code",
   "execution_count": 8,
   "metadata": {},
   "outputs": [
    {
     "name": "stdout",
     "output_type": "stream",
     "text": [
      "[1, 2]\n"
     ]
    }
   ],
   "source": [
    "b='1 2'\n",
    "print(list(map(int,b.split())))"
   ]
  },
  {
   "cell_type": "code",
   "execution_count": null,
   "metadata": {},
   "outputs": [],
   "source": [
    "b=1 1 1 1 2 2 2 3 3 3-2222222222\n",
    "c=1 1 1 1 1 1 2 2 2 2-1111111111\n",
    "d=4 3 3\n",
    "e=6 4\n",
    "f=4\n",
    "g=6\n",
    "else\n",
    "d=3 3\n",
    "e=4\n",
    "\n",
    "ans=7+4=11\n"
   ]
  }
 ],
 "metadata": {
  "kernelspec": {
   "display_name": "Python 3",
   "language": "python",
   "name": "python3"
  },
  "language_info": {
   "codemirror_mode": {
    "name": "ipython",
    "version": 3
   },
   "file_extension": ".py",
   "mimetype": "text/x-python",
   "name": "python",
   "nbconvert_exporter": "python",
   "pygments_lexer": "ipython3",
   "version": "3.7.1"
  }
 },
 "nbformat": 4,
 "nbformat_minor": 2
}
