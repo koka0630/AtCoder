{
 "cells": [
  {
   "cell_type": "code",
   "execution_count": 2,
   "metadata": {
    "scrolled": true
   },
   "outputs": [
    {
     "name": "stdout",
     "output_type": "stream",
     "text": [
      "2019/6/30\n",
      "TBD\n"
     ]
    }
   ],
   "source": [
    "y,m,d = str(input()).split('/')\n",
    "if int(y) >=2019:\n",
    "    if int(m) > 4:\n",
    "        print('TBD')\n",
    "    else:\n",
    "        print('Heisei')\n",
    "else:\n",
    "    print('Heisei')"
   ]
  }
 ],
 "metadata": {
  "kernelspec": {
   "display_name": "Python 3",
   "language": "python",
   "name": "python3"
  },
  "language_info": {
   "codemirror_mode": {
    "name": "ipython",
    "version": 3
   },
   "file_extension": ".py",
   "mimetype": "text/x-python",
   "name": "python",
   "nbconvert_exporter": "python",
   "pygments_lexer": "ipython3",
   "version": "3.7.1"
  }
 },
 "nbformat": 4,
 "nbformat_minor": 2
}
