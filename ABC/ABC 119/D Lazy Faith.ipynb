{
 "cells": [
  {
   "cell_type": "code",
   "execution_count": 3,
   "metadata": {},
   "outputs": [
    {
     "name": "stdout",
     "output_type": "stream",
     "text": [
      "2 3 4\n",
      "100\n",
      "600\n",
      "400\n",
      "900\n",
      "1000\n",
      "150\n",
      "350\n",
      "2000\n",
      "1400\n",
      "899\n",
      "301\n",
      "799\n",
      "399\n"
     ]
    }
   ],
   "source": [
    "import bisect\n",
    "A,B,Q= map(int, input().split())\n",
    "INF=10**20\n",
    "s=[-INF]+[int(input()) for i in range(A)]+[INF]\n",
    "t=[-INF]+[int(input()) for i in range(B)]+[INF]\n",
    "\n",
    "for q in range(Q):\n",
    "    f=INF\n",
    "    x=int(input())\n",
    "    b,d= bisect.bisect_right(s, x), bisect.bisect_right(t, x)\n",
    "    for i in [s[b-1],s[b]]:\n",
    "        for k in [t[d-1],t[d]]:\n",
    "            e=abs(i-k)+min(abs(i-x),abs(k-x))\n",
    "            f=min(f,e)\n",
    "    print(f)"
   ]
  },
  {
   "cell_type": "code",
   "execution_count": null,
   "metadata": {},
   "outputs": [],
   "source": [
    "2 3 4\n",
    "100\n",
    "600\n",
    "400\n",
    "900\n",
    "1000\n",
    "150\n",
    "2000\n",
    "899\n",
    "799"
   ]
  },
  {
   "cell_type": "code",
   "execution_count": null,
   "metadata": {},
   "outputs": [],
   "source": []
  }
 ],
 "metadata": {
  "kernelspec": {
   "display_name": "Python 3",
   "language": "python",
   "name": "python3"
  },
  "language_info": {
   "codemirror_mode": {
    "name": "ipython",
    "version": 3
   },
   "file_extension": ".py",
   "mimetype": "text/x-python",
   "name": "python",
   "nbconvert_exporter": "python",
   "pygments_lexer": "ipython3",
   "version": "3.7.1"
  }
 },
 "nbformat": 4,
 "nbformat_minor": 2
}
