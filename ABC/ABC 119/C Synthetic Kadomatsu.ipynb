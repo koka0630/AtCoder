{
 "cells": [
  {
   "cell_type": "code",
   "execution_count": 2,
   "metadata": {},
   "outputs": [
    {
     "name": "stdout",
     "output_type": "stream",
     "text": [
      "5 100 90 80\n",
      " 98\n",
      "40\n",
      "30\n",
      "21\n",
      "80\n",
      "23\n"
     ]
    }
   ],
   "source": [
    "PENALTY = 3000\n",
    "def func(n, a, b, c): #how much MP are needed in using the Kth bamboos satisfying K>=n\n",
    "    if n == N: #desert 0-length-bamboo\n",
    "        return (abs(a - A) if a > 0 else PENALTY) +\\\n",
    "               (abs(b - B) if b > 0 else PENALTY) +\\\n",
    "               (abs(c - C) if c > 0 else PENALTY)\n",
    "    else:\n",
    "        r0 = func(n + 1, a, b, c)\n",
    "        r1 = func(n + 1, a + l[n], b, c) + 10\n",
    "        r2 = func(n + 1, a, b + l[n], c) + 10\n",
    "        r3 = func(n + 1, a, b, c + l[n]) + 10\n",
    "        return min(r0, r1, r2, r3) \n",
    " \n",
    " \n",
    "N, A, B, C = map(int, input().split())\n",
    "l = [int(input()) for _ in range(N)]\n",
    "ans = func(0, 0, 0, 0)\n",
    "print(ans - 30)"
   ]
  },
  {
   "cell_type": "code",
   "execution_count": null,
   "metadata": {},
   "outputs": [],
   "source": []
  }
 ],
 "metadata": {
  "kernelspec": {
   "display_name": "Python 3",
   "language": "python",
   "name": "python3"
  },
  "language_info": {
   "codemirror_mode": {
    "name": "ipython",
    "version": 3
   },
   "file_extension": ".py",
   "mimetype": "text/x-python",
   "name": "python",
   "nbconvert_exporter": "python",
   "pygments_lexer": "ipython3",
   "version": "3.7.1"
  }
 },
 "nbformat": 4,
 "nbformat_minor": 2
}
