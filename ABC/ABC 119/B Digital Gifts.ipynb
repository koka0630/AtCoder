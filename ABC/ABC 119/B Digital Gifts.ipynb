{
 "cells": [
  {
   "cell_type": "code",
   "execution_count": 5,
   "metadata": {
    "scrolled": true
   },
   "outputs": [
    {
     "name": "stdout",
     "output_type": "stream",
     "text": [
      "3\n",
      "100000000 JPY\n",
      "100.00000000 BTC\n",
      "0.00000001 BTC\n",
      "138000000.0038\n"
     ]
    }
   ],
   "source": [
    "ans=0.0\n",
    "n=int(input())\n",
    "for i in range(n):\n",
    "    a, s = input().split()\n",
    "    a = float(a)\n",
    "    if s==\"BTC\" :\n",
    "        a *= 380000.0\n",
    "    ans += a\n",
    "print(ans)"
   ]
  },
  {
   "cell_type": "code",
   "execution_count": null,
   "metadata": {},
   "outputs": [],
   "source": [
    "3\n",
    "100000000 JPY\n",
    "100.00000000 BTC\n",
    "0.00000001 BTC"
   ]
  },
  {
   "cell_type": "code",
   "execution_count": null,
   "metadata": {},
   "outputs": [],
   "source": []
  }
 ],
 "metadata": {
  "kernelspec": {
   "display_name": "Python 3",
   "language": "python",
   "name": "python3"
  },
  "language_info": {
   "codemirror_mode": {
    "name": "ipython",
    "version": 3
   },
   "file_extension": ".py",
   "mimetype": "text/x-python",
   "name": "python",
   "nbconvert_exporter": "python",
   "pygments_lexer": "ipython3",
   "version": "3.7.1"
  }
 },
 "nbformat": 4,
 "nbformat_minor": 2
}
