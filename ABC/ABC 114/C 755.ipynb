{
 "cells": [
  {
   "cell_type": "code",
   "execution_count": 18,
   "metadata": {},
   "outputs": [
    {
     "name": "stdout",
     "output_type": "stream",
     "text": [
      "575\n",
      "4\n"
     ]
    }
   ],
   "source": [
    "N=int(input())\n",
    "def f(s):\n",
    "    if int(s)>N:\n",
    "        return 0\n",
    "    x=1 if all(s.count(c)>0 for c in '753') else 0\n",
    "    for c in '753':\n",
    "        x += f(s+c)\n",
    "    return x\n",
    "print(int(f('0')))"
   ]
  },
  {
   "cell_type": "code",
   "execution_count": 13,
   "metadata": {},
   "outputs": [
    {
     "name": "stdout",
     "output_type": "stream",
     "text": [
      "575\n",
      "4\n"
     ]
    }
   ],
   "source": [
    " N = int(input())\n",
    "def dfs(s): # 文字列 s で始まる七五三数の個数 \n",
    "    if int(s) > N:\n",
    "        return 0 \n",
    "    ret = 1 if all(s.count(c) > 0 for c in '753') else 0 # s 自体が七五三数なら +1 \n",
    "    for c in '753':\n",
    "        ret += dfs(s + c)\n",
    "    return ret\n",
    "print(dfs('0')) "
   ]
  },
  {
   "cell_type": "code",
   "execution_count": null,
   "metadata": {},
   "outputs": [],
   "source": []
  }
 ],
 "metadata": {
  "kernelspec": {
   "display_name": "Python 3",
   "language": "python",
   "name": "python3"
  },
  "language_info": {
   "codemirror_mode": {
    "name": "ipython",
    "version": 3
   },
   "file_extension": ".py",
   "mimetype": "text/x-python",
   "name": "python",
   "nbconvert_exporter": "python",
   "pygments_lexer": "ipython3",
   "version": "3.7.1"
  }
 },
 "nbformat": 4,
 "nbformat_minor": 2
}
