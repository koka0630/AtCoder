{
 "cells": [
  {
   "cell_type": "code",
   "execution_count": 4,
   "metadata": {},
   "outputs": [
    {
     "data": {
      "text/plain": [
       "114"
      ]
     },
     "execution_count": 4,
     "metadata": {},
     "output_type": "execute_result"
    }
   ],
   "source": [
    "def f(n):\n",
    "    if n%2 == 1:\n",
    "        return 3*n+1\n",
    "    else:\n",
    "        return n/2\n",
    "\n",
    "import numpy as np\n",
    "a=np.zeros(10000)\n",
    "\n",
    "a[0]=54\n",
    "for i in np.arange(1,10000):\n",
    "    if a[i-1]!=1:\n",
    "        k=i+1\n",
    "        a[i]=f(a[i-1])\n",
    "    else:\n",
    "        break\n",
    "\n",
    "return k+1"
   ]
  },
  {
   "cell_type": "code",
   "execution_count": null,
   "metadata": {},
   "outputs": [],
   "source": []
  }
 ],
 "metadata": {
  "kernelspec": {
   "display_name": "Python 3",
   "language": "python",
   "name": "python3"
  },
  "language_info": {
   "codemirror_mode": {
    "name": "ipython",
    "version": 3
   },
   "file_extension": ".py",
   "mimetype": "text/x-python",
   "name": "python",
   "nbconvert_exporter": "python",
   "pygments_lexer": "ipython3",
   "version": "3.7.1"
  }
 },
 "nbformat": 4,
 "nbformat_minor": 2
}
