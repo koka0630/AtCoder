{
 "cells": [
  {
   "cell_type": "code",
   "execution_count": 4,
   "metadata": {},
   "outputs": [
    {
     "name": "stdout",
     "output_type": "stream",
     "text": [
      "5 3 6 8\n",
      "-10 3 1 5 -100\n",
      "100 6 14\n",
      "War\n"
     ]
    }
   ],
   "source": [
    "N,M,X,Y=map(int,input().split())\n",
    "x=list(map(int,input().split()))\n",
    "y=list(map(int,input().split()))\n",
    "if max(x)>=min(y):\n",
    "    print('War')\n",
    "elif max(max(x),X)<min(min(y),Y):\n",
    "    print('No War')\n",
    "else:\n",
    "    print('War')"
   ]
  },
  {
   "cell_type": "code",
   "execution_count": null,
   "metadata": {},
   "outputs": [],
   "source": [
    "4 2 -48 -1\n",
    "-20 -35 -91 -23\n",
    "-22 66\n",
    "\n",
    "5 3 6 8\n",
    "-10 3 1 5 -100\n",
    "100 6 14"
   ]
  }
 ],
 "metadata": {
  "kernelspec": {
   "display_name": "Python 3",
   "language": "python",
   "name": "python3"
  },
  "language_info": {
   "codemirror_mode": {
    "name": "ipython",
    "version": 3
   },
   "file_extension": ".py",
   "mimetype": "text/x-python",
   "name": "python",
   "nbconvert_exporter": "python",
   "pygments_lexer": "ipython3",
   "version": "3.7.1"
  }
 },
 "nbformat": 4,
 "nbformat_minor": 2
}
