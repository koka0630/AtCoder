{
 "cells": [
  {
   "cell_type": "code",
   "execution_count": 1,
   "metadata": {},
   "outputs": [
    {
     "name": "stdout",
     "output_type": "stream",
     "text": [
      "8 3\n",
      "ACACTACG\n",
      "3 7\n",
      "2\n",
      "2 3\n",
      "0\n",
      "1 8\n",
      "3\n"
     ]
    }
   ],
   "source": [
    "N,Q=map(int,input().split())\n",
    "S=input()\n",
    "t=[0]*N\n",
    "for i in range(N-1):\n",
    "    t[i+1]=t[i]+(1 if S[i:i+2]=='AC' else 0)\n",
    "for i in range(Q):\n",
    "    l,r=map(int,input().split())\n",
    "    print(t[r-1]-t[l-1])"
   ]
  },
  {
   "cell_type": "code",
   "execution_count": 2,
   "metadata": {},
   "outputs": [
    {
     "ename": "SyntaxError",
     "evalue": "invalid syntax (<ipython-input-2-e53630a1063e>, line 1)",
     "output_type": "error",
     "traceback": [
      "\u001b[1;36m  File \u001b[1;32m\"<ipython-input-2-e53630a1063e>\"\u001b[1;36m, line \u001b[1;32m1\u001b[0m\n\u001b[1;33m    8 3\u001b[0m\n\u001b[1;37m      ^\u001b[0m\n\u001b[1;31mSyntaxError\u001b[0m\u001b[1;31m:\u001b[0m invalid syntax\n"
     ]
    }
   ],
   "source": [
    "8 3\n",
    "ACACTACG\n",
    "3 7\n",
    "2 3\n",
    "1 8\n",
    "2\n",
    "0\n",
    "3\n"
   ]
  },
  {
   "cell_type": "code",
   "execution_count": null,
   "metadata": {},
   "outputs": [],
   "source": []
  }
 ],
 "metadata": {
  "kernelspec": {
   "display_name": "Python 3",
   "language": "python",
   "name": "python3"
  },
  "language_info": {
   "codemirror_mode": {
    "name": "ipython",
    "version": 3
   },
   "file_extension": ".py",
   "mimetype": "text/x-python",
   "name": "python",
   "nbconvert_exporter": "python",
   "pygments_lexer": "ipython3",
   "version": "3.7.1"
  }
 },
 "nbformat": 4,
 "nbformat_minor": 2
}
