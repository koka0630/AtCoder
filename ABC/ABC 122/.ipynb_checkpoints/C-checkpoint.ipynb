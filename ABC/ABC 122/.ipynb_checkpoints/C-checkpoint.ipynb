{
 "cells": [
  {
   "cell_type": "code",
   "execution_count": null,
   "metadata": {},
   "outputs": [],
   "source": [
    "N,Q=map(int,input().split())\n",
    "S=input()\n",
    "l,r=[],[]\n",
    "for i in range(Q):\n",
    "    l0,r0=map(int,input().split())\n",
    "    l.append(l0)\n",
    "    r.append(r0)\n",
    "c=[]\n",
    "print(l)\n",
    "for i in range(N):\n",
    "    c.append(0)\n",
    "for i in range(N-1):\n",
    "    if (S[i]=='A') and (S[i+1]=='C'):\n",
    "        c[i]+=1\n",
    "print(c)\n",
    "for i in range(Q):\n",
    "    print(c[l[i]-1:r[i]-1])\n",
    "    print(sum([c[l[i]-1:r[i]-1]]))"
   ]
  },
  {
   "cell_type": "code",
   "execution_count": null,
   "metadata": {},
   "outputs": [],
   "source": [
    "8 3\n",
    "ACACTACG\n",
    "3 7\n",
    "2 3\n",
    "1 8\n",
    "2\n",
    "0\n",
    "3"
   ]
  }
 ],
 "metadata": {
  "kernelspec": {
   "display_name": "Python 3",
   "language": "python",
   "name": "python3"
  }
 },
 "nbformat": 4,
 "nbformat_minor": 2
}
