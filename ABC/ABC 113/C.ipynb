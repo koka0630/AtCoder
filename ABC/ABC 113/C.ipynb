{
 "cells": [
  {
   "cell_type": "code",
   "execution_count": 2,
   "metadata": {},
   "outputs": [
    {
     "name": "stdout",
     "output_type": "stream",
     "text": [
      "2 3\n",
      "1 32\n",
      "2 63\n",
      "1 12\n",
      "000001000002\n",
      "000002000001\n",
      "000001000001\n"
     ]
    }
   ],
   "source": [
    "N,M = map(int,input().split())\n",
    "PY=[list(map(int,input().split()))+[0] for _ in range(M)]\n",
    "sort_PY=sorted(PY,key=lambda x:x[1])\n",
    "c={}\n",
    "for i in range(M):\n",
    "    p=sort_PY[i][0]\n",
    "    if(p in c):\n",
    "        c[p]+=1\n",
    "    else:\n",
    "        c[p]=1\n",
    "    sort_PY[i][2]=c[p]\n",
    "for p,y,z in PY:\n",
    "    print(str(p).zfill(6)+str(z).zfill(6))\n",
    "    "
   ]
  },
  {
   "cell_type": "code",
   "execution_count": null,
   "metadata": {},
   "outputs": [],
   "source": []
  },
  {
   "cell_type": "code",
   "execution_count": null,
   "metadata": {},
   "outputs": [],
   "source": []
  }
 ],
 "metadata": {
  "kernelspec": {
   "display_name": "Python 3",
   "language": "python",
   "name": "python3"
  },
  "language_info": {
   "codemirror_mode": {
    "name": "ipython",
    "version": 3
   },
   "file_extension": ".py",
   "mimetype": "text/x-python",
   "name": "python",
   "nbconvert_exporter": "python",
   "pygments_lexer": "ipython3",
   "version": "3.7.1"
  }
 },
 "nbformat": 4,
 "nbformat_minor": 2
}
