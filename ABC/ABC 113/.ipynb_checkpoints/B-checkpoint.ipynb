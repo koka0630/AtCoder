{
 "cells": [
  {
   "cell_type": "code",
   "execution_count": 4,
   "metadata": {},
   "outputs": [
    {
     "name": "stdout",
     "output_type": "stream",
     "text": [
      "3\n",
      "21 -11\n",
      "81234 94124 52141\n",
      "3\n"
     ]
    }
   ],
   "source": [
    "N=int(input())\n",
    "T,A=map(int,input().split())\n",
    "H=list(map(int,input().split()))\n",
    "D=[abs(T-A-0.006*x) for x in H]\n",
    "print(1+D.index(min(D)))"
   ]
  },
  {
   "cell_type": "code",
   "execution_count": null,
   "metadata": {},
   "outputs": [],
   "source": [
    "3\n",
    "21 -11\n",
    "81234 94124 52141"
   ]
  }
 ],
 "metadata": {
  "kernelspec": {
   "display_name": "Python 3",
   "language": "python",
   "name": "python3"
  },
  "language_info": {
   "codemirror_mode": {
    "name": "ipython",
    "version": 3
   },
   "file_extension": ".py",
   "mimetype": "text/x-python",
   "name": "python",
   "nbconvert_exporter": "python",
   "pygments_lexer": "ipython3",
   "version": "3.7.1"
  }
 },
 "nbformat": 4,
 "nbformat_minor": 2
}
