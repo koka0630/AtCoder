{
 "cells": [
  {
   "cell_type": "code",
   "execution_count": 5,
   "metadata": {},
   "outputs": [
    {
     "name": "stdout",
     "output_type": "stream",
     "text": [
      "1 1\n",
      "0\n"
     ]
    }
   ],
   "source": [
    "N,X=map(int,input().split())\n",
    "H=[1]\n",
    "P=[1]\n",
    "\n",
    "for i in range(N):\n",
    "    H.append(H[i]*2+3)\n",
    "    P.append(P[i]*2+1)\n",
    "\n",
    "def f(n,x):\n",
    "    if n==0:\n",
    "        return  1\n",
    "    else:\n",
    "        if x==1:\n",
    "            return 0\n",
    "        elif x<2+H[n-1]:\n",
    "            return f(n-1,x-1)\n",
    "        elif x==2+H[n-1]:\n",
    "            return P[n-1]+1\n",
    "        elif x<H[n]:\n",
    "            return P[n-1]+f(n-1,x-H[n-1]-2)+1\n",
    "        elif x==H[n]:\n",
    "            return P[n]\n",
    "print(f(N,X))"
   ]
  },
  {
   "cell_type": "code",
   "execution_count": null,
   "metadata": {},
   "outputs": [],
   "source": []
  }
 ],
 "metadata": {
  "kernelspec": {
   "display_name": "Python 3",
   "language": "python",
   "name": "python3"
  },
  "language_info": {
   "codemirror_mode": {
    "name": "ipython",
    "version": 3
   },
   "file_extension": ".py",
   "mimetype": "text/x-python",
   "name": "python",
   "nbconvert_exporter": "python",
   "pygments_lexer": "ipython3",
   "version": "3.7.1"
  }
 },
 "nbformat": 4,
 "nbformat_minor": 2
}
