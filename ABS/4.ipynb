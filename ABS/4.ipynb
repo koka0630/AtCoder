{
 "cells": [
  {
   "cell_type": "code",
   "execution_count": 3,
   "metadata": {},
   "outputs": [
    {
     "name": "stdout",
     "output_type": "stream",
     "text": [
      "6\n",
      "382253568 723152896 37802240 379425024 404894720 471526144\n",
      "8\n"
     ]
    }
   ],
   "source": [
    "N=int(input())\n",
    "A=list(map(int,input().split()))\n",
    "B=[0]*N\n",
    "for i in range(N):\n",
    "    a=0\n",
    "    b=A[i]\n",
    "    while b%2==0:\n",
    "        a+=1\n",
    "        b=b/2\n",
    "    B[i]=a\n",
    "print(min(B))"
   ]
  },
  {
   "cell_type": "code",
   "execution_count": null,
   "metadata": {},
   "outputs": [],
   "source": []
  }
 ],
 "metadata": {
  "kernelspec": {
   "display_name": "Python 3",
   "language": "python",
   "name": "python3"
  },
  "language_info": {
   "codemirror_mode": {
    "name": "ipython",
    "version": 3
   },
   "file_extension": ".py",
   "mimetype": "text/x-python",
   "name": "python",
   "nbconvert_exporter": "python",
   "pygments_lexer": "ipython3",
   "version": "3.7.1"
  }
 },
 "nbformat": 4,
 "nbformat_minor": 2
}
