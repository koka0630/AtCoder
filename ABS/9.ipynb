{
 "cells": [
  {
   "cell_type": "code",
   "execution_count": 14,
   "metadata": {},
   "outputs": [
    {
     "name": "stdout",
     "output_type": "stream",
     "text": [
      "1000 1234000\n",
      "2 54 944\n"
     ]
    }
   ],
   "source": [
    "N,Y=map(int,input().split())\n",
    "def f(a,b):\n",
    "    return (a-1000*b)/4000 #a=5000x+1000(b-x)の解\n",
    "d=0\n",
    "for i in range(N+1):#1万円札の枚数探索\n",
    "    y=Y-10000*i\n",
    "    n=N-i\n",
    "    c=f(y,n)\n",
    "    if 0<=c<=n and c==int(c):\n",
    "        d=1\n",
    "        print(str(i)+' '+str(int(c))+' '+str(int(n-c)))\n",
    "        break\n",
    "if d==0:\n",
    "    print('-1 -1 -1')"
   ]
  },
  {
   "cell_type": "code",
   "execution_count": 10,
   "metadata": {},
   "outputs": [
    {
     "name": "stdout",
     "output_type": "stream",
     "text": [
      "58\n"
     ]
    }
   ],
   "source": [
    "print(f(1234000,1000))"
   ]
  },
  {
   "cell_type": "code",
   "execution_count": null,
   "metadata": {},
   "outputs": [],
   "source": []
  },
  {
   "cell_type": "code",
   "execution_count": null,
   "metadata": {},
   "outputs": [],
   "source": []
  }
 ],
 "metadata": {
  "kernelspec": {
   "display_name": "Python 3",
   "language": "python",
   "name": "python3"
  },
  "language_info": {
   "codemirror_mode": {
    "name": "ipython",
    "version": 3
   },
   "file_extension": ".py",
   "mimetype": "text/x-python",
   "name": "python",
   "nbconvert_exporter": "python",
   "pygments_lexer": "ipython3",
   "version": "3.7.1"
  }
 },
 "nbformat": 4,
 "nbformat_minor": 2
}
