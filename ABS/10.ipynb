{
 "cells": [
  {
   "cell_type": "code",
   "execution_count": null,
   "metadata": {},
   "outputs": [],
   "source": [
    "S=input()\n"
   ]
  },
  {
   "cell_type": "code",
   "execution_count": 2,
   "metadata": {},
   "outputs": [
    {
     "name": "stdout",
     "output_type": "stream",
     "text": [
      "['', 'dream', '', 'ase']\n"
     ]
    }
   ],
   "source": [
    "a='erdreamererase'\n",
    "print(a.split('er'))"
   ]
  },
  {
   "cell_type": "code",
   "execution_count": 6,
   "metadata": {},
   "outputs": [
    {
     "name": "stdout",
     "output_type": "stream",
     "text": [
      "erasedream\n",
      "NO\n"
     ]
    }
   ],
   "source": [
    "de=['dream','ase']\n",
    "ae=['as','ase']\n",
    "ad=['as','dream']\n",
    "def f(x):\n",
    "    if ((x[1]=='dream') and (x[0] in ad))or((x[1] in ae) and (x[0] in de)):\n",
    "        return True\n",
    "    else:\n",
    "        return False\n",
    "\n",
    "def g(x):\n",
    "    if (x[0] in ad) and (x[2] in ae):\n",
    "        return True\n",
    "    else:\n",
    "        return False\n",
    "S=input().split('er')\n",
    "if S[0]=='' and not(S[1] in ae):\n",
    "    d=0\n",
    "else:\n",
    "    d=1\n",
    "    while len(S)>2:\n",
    "        if '' in S[:2]:\n",
    "            if g(S[:3]):\n",
    "                S=S[2:]\n",
    "            else:\n",
    "                S=''\n",
    "                d=0\n",
    "        else:\n",
    "            if f(S[:2]):\n",
    "                S=S[1:]\n",
    "            else:\n",
    "                S=''\n",
    "                d=0\n",
    "\n",
    "print('YES'if d==1 else 'NO')"
   ]
  },
  {
   "cell_type": "code",
   "execution_count": null,
   "metadata": {},
   "outputs": [],
   "source": [
    "al=['dream','dreamer','erase','eraser']\n",
    "ae=['dreamdream','dreamerdream','dreamerdreamer','dreamereraser','dreamerase','dreameraser']\n",
    "S=input()\n",
    "def f(s):\n",
    "    if len(s)<8:\n",
    "        if s in al:\n",
    "            return True\n",
    "        else:\n",
    "            return False\n",
    "    elif len(s)<15:\n",
    "        if s[:8]=='dreamer':\n",
    "            \n",
    "            return True\n",
    "    else:\n",
    "        if s[:6]=='dream':\n",
    "            if s[7:9]=='er':\n",
    "            else:\n",
    "                if \n",
    "        elif s[:6]=='erase':\n",
    "            \n",
    "        else:\n",
    "            return False"
   ]
  },
  {
   "cell_type": "code",
   "execution_count": 8,
   "metadata": {},
   "outputs": [
    {
     "name": "stdout",
     "output_type": "stream",
     "text": [
      "dreamerer\n",
      "NO\n"
     ]
    }
   ],
   "source": [
    "S=input()\n",
    "d=1\n",
    "while len(S)>0:\n",
    "    if S[-7:]=='dreamer':\n",
    "        S=S[:-7]\n",
    "    elif S[-5:]=='dream'or S[-5:]=='erase':\n",
    "        S=S[:-5]\n",
    "    elif S[-6:]=='eraser':\n",
    "        S=S[:-6]\n",
    "    else:\n",
    "        d=0\n",
    "        S=''\n",
    "print('YES'if d==1 else'NO')"
   ]
  },
  {
   "cell_type": "code",
   "execution_count": null,
   "metadata": {},
   "outputs": [],
   "source": []
  }
 ],
 "metadata": {
  "kernelspec": {
   "display_name": "Python 3",
   "language": "python",
   "name": "python3"
  },
  "language_info": {
   "codemirror_mode": {
    "name": "ipython",
    "version": 3
   },
   "file_extension": ".py",
   "mimetype": "text/x-python",
   "name": "python",
   "nbconvert_exporter": "python",
   "pygments_lexer": "ipython3",
   "version": "3.7.1"
  }
 },
 "nbformat": 4,
 "nbformat_minor": 2
}
