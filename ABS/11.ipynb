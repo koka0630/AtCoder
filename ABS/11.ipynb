{
 "cells": [
  {
   "cell_type": "code",
   "execution_count": 2,
   "metadata": {},
   "outputs": [
    {
     "name": "stdout",
     "output_type": "stream",
     "text": [
      "2\n",
      "5 1 1\n",
      "100 1 1\n",
      "No\n"
     ]
    }
   ],
   "source": [
    "N=int(input())\n",
    "t,x,y=[0],[0],[0]\n",
    "for i in range(N):\n",
    "    a,b,c=map(int,input().split())\n",
    "    t.append(a)\n",
    "    x.append(b)\n",
    "    y.append(c)\n",
    "D=1\n",
    "for i in range(N):\n",
    "    dt=t[i+1]-t[i]\n",
    "    dx=abs(x[i+1]-x[i])\n",
    "    dy=abs(y[i+1]-y[i])\n",
    "    if dt<dx+dy or (dt-dx-dy)%2==1:\n",
    "            D=0\n",
    "print('Yes'if D==1 else'No')"
   ]
  },
  {
   "cell_type": "code",
   "execution_count": null,
   "metadata": {},
   "outputs": [],
   "source": [
    "2\n",
    "5 1 1\n",
    "100 1 1"
   ]
  }
 ],
 "metadata": {
  "kernelspec": {
   "display_name": "Python 3",
   "language": "python",
   "name": "python3"
  },
  "language_info": {
   "codemirror_mode": {
    "name": "ipython",
    "version": 3
   },
   "file_extension": ".py",
   "mimetype": "text/x-python",
   "name": "python",
   "nbconvert_exporter": "python",
   "pygments_lexer": "ipython3",
   "version": "3.7.1"
  }
 },
 "nbformat": 4,
 "nbformat_minor": 2
}
