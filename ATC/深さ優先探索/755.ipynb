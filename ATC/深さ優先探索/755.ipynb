{
 "cells": [
  {
   "cell_type": "code",
   "execution_count": 10,
   "metadata": {},
   "outputs": [
    {
     "name": "stdout",
     "output_type": "stream",
     "text": [
      "575\n",
      "0\n"
     ]
    }
   ],
   "source": [
    "N=int(input())\n",
    "def dfs(l,n):\n",
    "    if n>N:\n",
    "        return 0\n",
    "    if all((str(i) in str(n)) for i in [3,5,7]):\n",
    "        c=1\n",
    "    else:\n",
    "        c=0\n",
    "    return dfs(l+1,3*(10**l)+n)+dfs(5*(10**l)+n)+dfs(l+1,7*(10**l)+n)+c\n",
    "print(dfs(3)+dfs(5)+dfs(7))"
   ]
  },
  {
   "cell_type": "code",
   "execution_count": 1,
   "metadata": {},
   "outputs": [
    {
     "name": "stdout",
     "output_type": "stream",
     "text": [
      "262144\n"
     ]
    }
   ],
   "source": [
    "print(4**9)"
   ]
  },
  {
   "cell_type": "code",
   "execution_count": null,
   "metadata": {},
   "outputs": [],
   "source": []
  }
 ],
 "metadata": {
  "kernelspec": {
   "display_name": "Python 3",
   "language": "python",
   "name": "python3"
  },
  "language_info": {
   "codemirror_mode": {
    "name": "ipython",
    "version": 3
   },
   "file_extension": ".py",
   "mimetype": "text/x-python",
   "name": "python",
   "nbconvert_exporter": "python",
   "pygments_lexer": "ipython3",
   "version": "3.7.1"
  }
 },
 "nbformat": 4,
 "nbformat_minor": 2
}
