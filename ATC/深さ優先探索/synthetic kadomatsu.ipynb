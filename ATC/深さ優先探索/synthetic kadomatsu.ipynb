{
 "cells": [
  {
   "cell_type": "code",
   "execution_count": 1,
   "metadata": {},
   "outputs": [
    {
     "name": "stdout",
     "output_type": "stream",
     "text": [
      "5 100 90 80\n",
      "98\n",
      "40\n",
      "30\n",
      "21\n",
      "80\n",
      "23\n"
     ]
    }
   ],
   "source": [
    "N,A,B,C=map(int,input().split())\n",
    "l=[]\n",
    "INF=10**9\n",
    "for i in range(N):\n",
    "    l.append(int(input()))\n",
    "def dfs(x,a,b,c):\n",
    "    if x==N:\n",
    "        return abs(a-A)+abs(b-B)+abs(c-C)-30 if min(a,b,c)>0 else INF\n",
    "    r1=dfs(x+1,a,b,c)\n",
    "    r2=dfs(x+1,a+l[x],b,c)+10\n",
    "    r3=dfs(x+1,a,b+l[x],c)+10\n",
    "    r4=dfs(x+1,a,b,l[x]+c)+10\n",
    "    return min([r1,r2,r3,r4])\n",
    "print(dfs(0,0,0,0))"
   ]
  },
  {
   "cell_type": "code",
   "execution_count": null,
   "metadata": {},
   "outputs": [],
   "source": [
    "5 100 90 80\n",
    "98 40 30 21 80"
   ]
  }
 ],
 "metadata": {
  "kernelspec": {
   "display_name": "Python 3",
   "language": "python",
   "name": "python3"
  },
  "language_info": {
   "codemirror_mode": {
    "name": "ipython",
    "version": 3
   },
   "file_extension": ".py",
   "mimetype": "text/x-python",
   "name": "python",
   "nbconvert_exporter": "python",
   "pygments_lexer": "ipython3",
   "version": "3.7.1"
  }
 },
 "nbformat": 4,
 "nbformat_minor": 2
}
