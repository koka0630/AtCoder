{
 "cells": [
  {
   "cell_type": "code",
   "execution_count": null,
   "metadata": {},
   "outputs": [],
   "source": [
    "n=int(input())\n",
    "id=[i+1 for i in range(n)]\n",
    "d=[0]*(n+1)\n",
    "f=[0]*(n+1)\n",
    "k=[0]*(n+1)\n",
    "v=[[0]]*(n+1)\n",
    "for i in range(1,n+1):\n",
    "    A=list(map(int,input().split()))\n",
    "    k[i]=A[1]\n",
    "    v[i]=A[2:].sort()\n",
    "def dfs(i,t):\n",
    "    for e in v[i]:\n",
    "        if d[e]!=0:\n",
    "            return\n",
    "        if "
   ]
  }
 ],
 "metadata": {
  "kernelspec": {
   "display_name": "Python 3",
   "language": "python",
   "name": "python3"
  },
  "language_info": {
   "codemirror_mode": {
    "name": "ipython",
    "version": 3
   },
   "file_extension": ".py",
   "mimetype": "text/x-python",
   "name": "python",
   "nbconvert_exporter": "python",
   "pygments_lexer": "ipython3",
   "version": "3.7.1"
  }
 },
 "nbformat": 4,
 "nbformat_minor": 2
}
