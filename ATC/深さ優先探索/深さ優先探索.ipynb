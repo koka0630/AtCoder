{
 "cells": [
  {
   "cell_type": "code",
   "execution_count": 7,
   "metadata": {},
   "outputs": [
    {
     "name": "stdout",
     "output_type": "stream",
     "text": [
      "2 10\n",
      "s....#####\n",
      ".....g....\n",
      "[[1, 1, 1, 1, 1, 0, 0, 0, 0, 0], [1, 1, 1, 1, 1, 1, 1, 1, 1, 1]]\n",
      "['s....#####', '.....g....']\n",
      "Yes\n"
     ]
    }
   ],
   "source": [
    "import sys\n",
    "sys.setrecursionlimit(10**6) \n",
    "\n",
    "H, W = map(int, input().split())\n",
    "R = [input() for i in range(H)]\n",
    "c = [W * [0] for i in range(H)]\n",
    "\n",
    "def dfs(x,y):\n",
    "    if x < 0 or W <= x or y < 0 or H <= y or R[y][x] == '#':\n",
    "        return\n",
    "    if c[y][x]:\n",
    "        return\n",
    "    c[y][x]=1\n",
    "    dfs(x+1,y)\n",
    "    dfs(x-1,y)\n",
    "    dfs(x,y+1)\n",
    "    dfs(x,y-1)\n",
    "    return\n",
    "\n",
    "for i in range(H):\n",
    "    for j in range(W):\n",
    "        if R[i][j] == 's':\n",
    "            x, y = j, i\n",
    "        if R[i][j] == 'g':\n",
    "            w, h = j, i\n",
    "\n",
    "dfs(x,y)\n",
    "print(c)\n",
    "print(R)\n",
    "if c[h][w]:\n",
    "    print('Yes')\n",
    "else:\n",
    "    print('No')"
   ]
  },
  {
   "cell_type": "code",
   "execution_count": 5,
   "metadata": {},
   "outputs": [
    {
     "name": "stdout",
     "output_type": "stream",
     "text": [
      "2 10\n",
      "s....#####\n",
      ".....g....\n",
      "['s....#####', '.....g....']\n",
      "[[1, 1, 1, 1, 1, 0, 0, 0, 0, 0], [1, 1, 1, 1, 1, 1, 1, 1, 1, 1]]\n",
      "Yes\n"
     ]
    }
   ],
   "source": [
    "import sys\n",
    "sys.setrecursionlimit(10**6) \n",
    "\n",
    "H, W = map(int, input().split())\n",
    "maze = [input() for i in range(H)]\n",
    "reached = [W * [0] for i in range(H)]\n",
    "\n",
    "def search(x, y):\n",
    "    if x < 0 or W <= x or y < 0 or H <= y or maze[y][x] == '#':\n",
    "        return\n",
    "    if reached[y][x]:\n",
    "        return\n",
    "\n",
    "    reached[y][x] = 1\n",
    "\n",
    "    search(x + 1, y)\n",
    "    search(x - 1, y)\n",
    "    search(x, y + 1)\n",
    "    search(x, y - 1)\n",
    "    return\n",
    "\n",
    "for i in range(H):\n",
    "    for j in range(W):\n",
    "        if maze[i][j] == 's':\n",
    "            x, y = j, i\n",
    "        if maze[i][j] == 'g':\n",
    "            w, h = j, i\n",
    "\n",
    "search(x, y)\n",
    "print(maze)\n",
    "print(reached)\n",
    "if reached[h][w]:\n",
    "    print('Yes')\n",
    "else:\n",
    "    print('No')\n"
   ]
  },
  {
   "cell_type": "code",
   "execution_count": 8,
   "metadata": {},
   "outputs": [
    {
     "ename": "AttributeError",
     "evalue": "'str' object has no attribute 'append'",
     "output_type": "error",
     "traceback": [
      "\u001b[1;31m---------------------------------------------------------------------------\u001b[0m",
      "\u001b[1;31mAttributeError\u001b[0m                            Traceback (most recent call last)",
      "\u001b[1;32m<ipython-input-8-8d189ba8053a>\u001b[0m in \u001b[0;36m<module>\u001b[1;34m\u001b[0m\n\u001b[0;32m      1\u001b[0m \u001b[0mp\u001b[0m\u001b[1;33m=\u001b[0m\u001b[1;34m'a'\u001b[0m\u001b[1;33m\u001b[0m\u001b[1;33m\u001b[0m\u001b[0m\n\u001b[1;32m----> 2\u001b[1;33m \u001b[0mp\u001b[0m\u001b[1;33m.\u001b[0m\u001b[0mappend\u001b[0m\u001b[1;33m(\u001b[0m\u001b[1;34m'x'\u001b[0m\u001b[1;33m)\u001b[0m\u001b[1;33m\u001b[0m\u001b[1;33m\u001b[0m\u001b[0m\n\u001b[0m\u001b[0;32m      3\u001b[0m \u001b[0mprint\u001b[0m\u001b[1;33m(\u001b[0m\u001b[0mp\u001b[0m\u001b[1;33m)\u001b[0m\u001b[1;33m\u001b[0m\u001b[1;33m\u001b[0m\u001b[0m\n",
      "\u001b[1;31mAttributeError\u001b[0m: 'str' object has no attribute 'append'"
     ]
    }
   ],
   "source": [
    "p='a'\n",
    "p.append('x')\n",
    "print(p)"
   ]
  },
  {
   "cell_type": "code",
   "execution_count": 6,
   "metadata": {},
   "outputs": [
    {
     "name": "stdout",
     "output_type": "stream",
     "text": [
      "1 10\n",
      "s....g....\n",
      "[[1, 1, 1, 1, 1, 1, 1, 1, 1, 1]]\n",
      "Yes\n"
     ]
    }
   ],
   "source": [
    "import sys\n",
    "sys.setrecursionlimit(10**6) \n",
    "\n",
    "H, W = map(int, input().split())\n",
    "maze = [input() for i in range(H)]\n",
    "reached = [W * [0] for i in range(H)]\n",
    "def dfs(x,y):\n",
    "    if x < 0 or W <= x or y < 0 or H <= y or maze[y][x] == '#':\n",
    "        return\n",
    "    if reached[y][x]:\n",
    "        return\n",
    "    reached[y][x]=1\n",
    "    dfs(x+1,y)\n",
    "    dfs(x-1,y)\n",
    "    dfs(x,y+1)\n",
    "    dfs(x,y-1)\n",
    "    return\n",
    "for i in range(H):\n",
    "    for j in range(W):\n",
    "        if maze[i][j]=='s':\n",
    "            x,y=j,i\n",
    "        if maze[i][j]=='g':\n",
    "            h,w=i,j\n",
    "dfs(x,y)\n",
    "print('Yes' if reached[h][w]==1 else 'No')"
   ]
  },
  {
   "cell_type": "code",
   "execution_count": null,
   "metadata": {},
   "outputs": [],
   "source": [
    "10 10\n",
    "s.........\n",
    "#########.\n",
    "#.......#.\n",
    "#..####.#.\n",
    "##....#.#.\n",
    "#####.#.#.\n",
    "g.#.#.#.#.\n",
    "#.#.#.#.#.\n",
    "#.#.#.#.#.\n",
    "#.....#...\n"
   ]
  }
 ],
 "metadata": {
  "kernelspec": {
   "display_name": "Python 3",
   "language": "python",
   "name": "python3"
  },
  "language_info": {
   "codemirror_mode": {
    "name": "ipython",
    "version": 3
   },
   "file_extension": ".py",
   "mimetype": "text/x-python",
   "name": "python",
   "nbconvert_exporter": "python",
   "pygments_lexer": "ipython3",
   "version": "3.7.1"
  }
 },
 "nbformat": 4,
 "nbformat_minor": 2
}
