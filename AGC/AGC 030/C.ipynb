{
 "cells": [
  {
   "cell_type": "code",
   "execution_count": null,
   "metadata": {},
   "outputs": [],
   "source": [
    "K=int(input())\n"
   ]
  },
  {
   "cell_type": "code",
   "execution_count": null,
   "metadata": {},
   "outputs": [],
   "source": [
    "\n",
    "K=5\n",
    "1 2 3\n",
    "4 5 5\n",
    "1 2 3\n",
    "K=6\n",
    "1 2 3\n",
    "4 5 6\n",
    "1 2 3\n",
    "K=7\n",
    "1 2 3\n",
    "4 5 6\n",
    "\n",
    "K=11\n",
    "1 2  3  4\n",
    "5 6  7  8\n",
    "9 10 11 "
   ]
  }
 ],
 "metadata": {
  "kernelspec": {
   "display_name": "Python 3",
   "language": "python",
   "name": "python3"
  },
  "language_info": {
   "codemirror_mode": {
    "name": "ipython",
    "version": 3
   },
   "file_extension": ".py",
   "mimetype": "text/x-python",
   "name": "python",
   "nbconvert_exporter": "python",
   "pygments_lexer": "ipython3",
   "version": "3.7.1"
  }
 },
 "nbformat": 4,
 "nbformat_minor": 2
}
