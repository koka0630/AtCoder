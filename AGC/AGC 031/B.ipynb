{
 "cells": [
  {
   "cell_type": "code",
   "execution_count": 3,
   "metadata": {},
   "outputs": [
    {
     "name": "stdout",
     "output_type": "stream",
     "text": [
      "[1, 2, 3]\n"
     ]
    }
   ],
   "source": [
    "a=[1,3,2]\n",
    "print(list(set(a)))"
   ]
  },
  {
   "cell_type": "code",
   "execution_count": 8,
   "metadata": {},
   "outputs": [
    {
     "name": "stdout",
     "output_type": "stream",
     "text": [
      "5\n",
      "1\n",
      "2\n",
      "1\n",
      "2\n",
      "2\n",
      "[1, 2, 1, 2, 2]\n",
      "[2, 1, 2, 2]\n",
      "[1, 2, 2]\n",
      "[2]\n",
      "[2]\n",
      "[1, 2, 2]\n",
      "[2]\n",
      "[2]\n",
      "8\n"
     ]
    }
   ],
   "source": [
    "N=int(input())\n",
    "C=[]\n",
    "for i in range(N):\n",
    "    C.append(int(input()))\n",
    "print(C)\n",
    "def f(A):\n",
    "    if len(A)==1:\n",
    "        return 1\n",
    "    elif (A[0] in A[1:]):\n",
    "        i=A.index(A[0])\n",
    "        A0=A[i+1:]\n",
    "        A1=A[1:]\n",
    "        print(A0)\n",
    "        return f(A0)+f(A1)\n",
    "    else:\n",
    "        return f(A[1:])\n",
    "print(f(C))"
   ]
  },
  {
   "cell_type": "code",
   "execution_count": null,
   "metadata": {},
   "outputs": [],
   "source": []
  }
 ],
 "metadata": {
  "kernelspec": {
   "display_name": "Python 3",
   "language": "python",
   "name": "python3"
  },
  "language_info": {
   "codemirror_mode": {
    "name": "ipython",
    "version": 3
   },
   "file_extension": ".py",
   "mimetype": "text/x-python",
   "name": "python",
   "nbconvert_exporter": "python",
   "pygments_lexer": "ipython3",
   "version": "3.7.1"
  }
 },
 "nbformat": 4,
 "nbformat_minor": 2
}
