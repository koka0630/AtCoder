{
 "cells": [
  {
   "cell_type": "code",
   "execution_count": 5,
   "metadata": {},
   "outputs": [
    {
     "name": "stdout",
     "output_type": "stream",
     "text": [
      "0b10010\n",
      "0b10010\n",
      "2\n"
     ]
    }
   ],
   "source": [
    "a=bin(18)\n",
    "print(a)\n",
    "b=str(a)\n",
    "print(b)\n",
    "print(b.count('1'))"
   ]
  },
  {
   "cell_type": "code",
   "execution_count": null,
   "metadata": {},
   "outputs": [],
   "source": [
    "N,A,B=map(int,input().split())\n",
    "c=0\n",
    "s=bin(A).zfill(18)\n",
    "t=bin(B).zfill(18)\n",
    "u={}\n",
    "for i in range(18):\n",
    "    if s[i]!=t[i]:\n",
    "        c+=1\n",
    "        u[i]=i\n",
    "if (c%2==1) or (c>=2**N):\n",
    "    print('No')\n",
    "else:\n",
    "    P=[A]\n",
    "    for i in u:\n",
    "        P.append"
   ]
  }
 ],
 "metadata": {
  "kernelspec": {
   "display_name": "Python 3",
   "language": "python",
   "name": "python3"
  },
  "language_info": {
   "codemirror_mode": {
    "name": "ipython",
    "version": 3
   },
   "file_extension": ".py",
   "mimetype": "text/x-python",
   "name": "python",
   "nbconvert_exporter": "python",
   "pygments_lexer": "ipython3",
   "version": "3.7.1"
  }
 },
 "nbformat": 4,
 "nbformat_minor": 2
}
