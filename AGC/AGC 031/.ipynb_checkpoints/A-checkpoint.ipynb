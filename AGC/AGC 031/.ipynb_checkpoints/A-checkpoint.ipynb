{
 "cells": [
  {
   "cell_type": "code",
   "execution_count": null,
   "metadata": {},
   "outputs": [],
   "source": [
    "N=int(input())\n",
    "S=input()\n",
    "if len(S)==1:\n",
    "    print(1)\n",
    "else:\n",
    "    d=[]\n",
    "    j=0\n",
    "    e=0\n",
    "    while j<N:\n",
    "        c={}\n",
    "        c[S[j]]=1\n",
    "        f=0\n",
    "        for i in range(j+1,N):\n",
    "            print(S[i])\n",
    "            f+=1\n",
    "            if (S[i] in c):\n",
    "                break\n",
    "            else:\n",
    "                c[S[i]]=1\n",
    "        j+=f\n",
    "        print(j)\n",
    "        d.append(len(c))\n",
    "    print(d)\n",
    "    ans=sum(map(lambda x:2**x,d))-len(d)\n",
    "    print(ans)"
   ]
  },
  {
   "cell_type": "code",
   "execution_count": null,
   "metadata": {},
   "outputs": [],
   "source": []
  }
 ],
 "metadata": {
  "kernelspec": {
   "display_name": "Python 3",
   "language": "python",
   "name": "python3"
  },
  "language_info": {
   "codemirror_mode": {
    "name": "ipython",
    "version": 3
   },
   "file_extension": ".py",
   "mimetype": "text/x-python",
   "name": "python",
   "nbconvert_exporter": "python",
   "pygments_lexer": "ipython3",
   "version": "3.7.1"
  }
 },
 "nbformat": 4,
 "nbformat_minor": 2
}
