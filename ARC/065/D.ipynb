{
 "cells": [
  {
   "cell_type": "code",
   "execution_count": null,
   "metadata": {},
   "outputs": [],
   "source": [
    "N,K,L=map(int,input().split())\n",
    "ar=[i for i in range(1,N+1)]\n"
   ]
  },
  {
   "cell_type": "code",
   "execution_count": 4,
   "metadata": {},
   "outputs": [
    {
     "name": "stdout",
     "output_type": "stream",
     "text": [
      "3 16\n",
      "3 13 4\n",
      "Yes\n"
     ]
    }
   ],
   "source": [
    "N,K=map(int,input().split())\n",
    "a=list(map(int,input().split()))\n",
    "def dfs(i,sum):\n",
    "    if i==N:\n",
    "        return sum==K\n",
    "    if dfs(i+1,sum+a[i]):\n",
    "        return True\n",
    "    if dfs(i+1,sum):\n",
    "        return True\n",
    "    return False\n",
    "if dfs(0,0):\n",
    "    print('Yes')\n",
    "else:\n",
    "    print('No')"
   ]
  },
  {
   "cell_type": "code",
   "execution_count": null,
   "metadata": {},
   "outputs": [],
   "source": []
  }
 ],
 "metadata": {
  "kernelspec": {
   "display_name": "Python 3",
   "language": "python",
   "name": "python3"
  },
  "language_info": {
   "codemirror_mode": {
    "name": "ipython",
    "version": 3
   },
   "file_extension": ".py",
   "mimetype": "text/x-python",
   "name": "python",
   "nbconvert_exporter": "python",
   "pygments_lexer": "ipython3",
   "version": "3.7.1"
  }
 },
 "nbformat": 4,
 "nbformat_minor": 2
}
